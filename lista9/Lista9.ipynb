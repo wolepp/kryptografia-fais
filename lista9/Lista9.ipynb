{
 "cells": [
  {
   "cell_type": "markdown",
   "metadata": {},
   "source": [
    "# Lista 9 (9 pkt.)"
   ]
  },
  {
   "cell_type": "code",
   "execution_count": 1,
   "metadata": {},
   "outputs": [],
   "source": [
    "import numpy as np\n",
    "import hashlib\n",
    "import matplotlib.pyplot as plt"
   ]
  },
  {
   "cell_type": "markdown",
   "metadata": {},
   "source": [
    "## Zadanie 1 (1 pkt.)"
   ]
  },
  {
   "cell_type": "markdown",
   "metadata": {},
   "source": [
    "Wczytaj dwa obrazki: 'Campin_Boze_Narodzenie1.png' oraz 'Campin_Boze_Narodzenie2.png' jeden z nich jest zgodny z oryginałem obrazu Roberta Campin a drugi jest lekko zmodyfikowany, rozponaj prawdziwy obraz obliczając jego funkcję skrótu SHA-256 i porównując ją do skrótu podanego poniżej (w postaci szesnastkowej), który odpowiada oryginałowi:"
   ]
  },
  {
   "cell_type": "code",
   "execution_count": 2,
   "metadata": {},
   "outputs": [],
   "source": [
    "hash_original='2d08246bbb3a8f6b0c16b8d8effd2c783233a6a174496731dfff887bb41bc7e7'"
   ]
  },
  {
   "cell_type": "markdown",
   "metadata": {},
   "source": [
    "Obrazek wczytaj za pomocą:"
   ]
  },
  {
   "cell_type": "code",
   "execution_count": 3,
   "metadata": {},
   "outputs": [],
   "source": [
    "file = open('Campin_Boze_Narodzenie1.png','rb')\n",
    "obraz1=file.read()\n",
    "file.close()"
   ]
  },
  {
   "cell_type": "code",
   "execution_count": 4,
   "metadata": {},
   "outputs": [],
   "source": [
    "file = open('Campin_Boze_Narodzenie2.png','rb')\n",
    "obraz2=file.read()\n",
    "file.close()"
   ]
  },
  {
   "cell_type": "markdown",
   "metadata": {},
   "source": [
    "'rb' w powyższej funkcji oznacza, że odczytujemy binarną postać obrazu. Podobnie wczytaj drugi obraz. Do policzenia funkcji skrótu użyj biblioteki hashlib: https://docs.python.org/3/library/hashlib.html"
   ]
  },
  {
   "cell_type": "code",
   "execution_count": 5,
   "metadata": {},
   "outputs": [
    {
     "data": {
      "text/plain": [
       "True"
      ]
     },
     "execution_count": 5,
     "metadata": {},
     "output_type": "execute_result"
    }
   ],
   "source": [
    "hashlib.sha256(obraz1).hexdigest() == hash_original"
   ]
  },
  {
   "cell_type": "code",
   "execution_count": 6,
   "metadata": {},
   "outputs": [
    {
     "data": {
      "text/plain": [
       "False"
      ]
     },
     "execution_count": 6,
     "metadata": {},
     "output_type": "execute_result"
    }
   ],
   "source": [
    "hashlib.sha256(obraz2).hexdigest() == hash_original"
   ]
  },
  {
   "cell_type": "markdown",
   "metadata": {},
   "source": [
    "## Zadanie 2 (2 pkt.)"
   ]
  },
  {
   "cell_type": "markdown",
   "metadata": {},
   "source": [
    "Zaimplementuj funkcję $rho\\_pollard()$ znajdującą kolizje w funkcji skrótu za pomocą agorytmu rho Pollarda. Wypisz przykładowe pary argumentów, które mają taki sam skrót dla funkcji $simple\\_hash()$, która przyjmuje liczbę zapisaną szesnastkowo w postaci stringu i zwraca hash w postaci stringu z zapisem szesnastkowym."
   ]
  },
  {
   "cell_type": "code",
   "execution_count": 7,
   "metadata": {},
   "outputs": [],
   "source": [
    "from random import randint"
   ]
  },
  {
   "cell_type": "code",
   "execution_count": 8,
   "metadata": {},
   "outputs": [],
   "source": [
    "def rho_pollard():\n",
    "    N = 10\n",
    "    print(\"  i    Hi   Hi+1    Hi'  Hi+1'\")\n",
    "    \n",
    "    for _ in range(N):\n",
    "        \n",
    "        H0 = f\"{randint(0, 255):02x}\"\n",
    "\n",
    "        H = simple_hash(H0)\n",
    "        H_prime = simple_hash(simple_hash(H0))\n",
    "        \n",
    "        j = 1\n",
    "        old_H = [H, H]\n",
    "        old_H_prime = [H_prime, H_prime]\n",
    "        \n",
    "        while H != H_prime:\n",
    "            H = simple_hash(H)\n",
    "            H_prime = simple_hash(simple_hash(H_prime))\n",
    "            j += 1\n",
    "            old_H = [old_H[1], H]\n",
    "            old_H_prime = [old_H_prime[1], H_prime]\n",
    "    \n",
    "        print(f\"{j:3}  {old_H} {old_H_prime}\")"
   ]
  },
  {
   "cell_type": "code",
   "execution_count": 9,
   "metadata": {},
   "outputs": [],
   "source": [
    "def simple_hash(str):\n",
    "    m = hashlib.sha256()\n",
    "    m.update(bytes(int(str,16)))\n",
    "    return m.hexdigest()[:2]"
   ]
  },
  {
   "cell_type": "code",
   "execution_count": 10,
   "metadata": {},
   "outputs": [
    {
     "name": "stdout",
     "output_type": "stream",
     "text": [
      "  i    Hi   Hi+1    Hi'  Hi+1'\n",
      " 13  ['96', '1d'] ['02', '1d']\n",
      " 13  ['0a', '01'] ['11', '01']\n",
      " 13  ['0a', '01'] ['11', '01']\n",
      " 39  ['7c', '7b'] ['fd', '7b']\n",
      " 13  ['f2', 'fd'] ['6e', 'fd']\n",
      " 26  ['7c', '7b'] ['fd', '7b']\n",
      " 26  ['37', '02'] ['40', '02']\n",
      " 26  ['1d', '11'] ['96', '11']\n",
      " 13  ['11', '0a'] ['1d', '0a']\n",
      " 13  ['17', '01'] ['11', '01']\n"
     ]
    }
   ],
   "source": [
    "rho_pollard()"
   ]
  },
  {
   "cell_type": "code",
   "execution_count": 11,
   "metadata": {},
   "outputs": [
    {
     "data": {
      "text/plain": [
       "True"
      ]
     },
     "execution_count": 11,
     "metadata": {},
     "output_type": "execute_result"
    }
   ],
   "source": [
    "simple_hash(simple_hash('fd')) == simple_hash('7c')"
   ]
  },
  {
   "cell_type": "markdown",
   "metadata": {},
   "source": [
    "## Zadanie 3 (2 pkt.)"
   ]
  },
  {
   "cell_type": "markdown",
   "metadata": {},
   "source": [
    "Napisz funkcję $HMAC(K,M)$, która przyjmuje klucz oraz wiadomość a zwraca kod HMAC, wszystko w postaci stringu bitów. Funkcja $hash()$ to funkcja SHA256 ale przyjmująca i zwracająca dane w postaci stringu bitów. Przyjmij długość bloku 64 bity (przypadek DESa)."
   ]
  },
  {
   "cell_type": "code",
   "execution_count": 12,
   "metadata": {},
   "outputs": [],
   "source": [
    "def bin2dec(bin_str):\n",
    "    return int(bin_str, 2)\n",
    "\n",
    "def dec2bin(dec_str,pad):\n",
    "    return f\"{dec_str:b}\".rjust(pad, '0')"
   ]
  },
  {
   "cell_type": "code",
   "execution_count": 13,
   "metadata": {},
   "outputs": [],
   "source": [
    "def HMAC(K,M):\n",
    "    L = 64\n",
    "    def xor(a, b):\n",
    "        return dec2bin(bin2dec(a) ^ bin2dec(b), len(a))\n",
    "    \n",
    "    padded_K = K.rjust(L, '0')\n",
    "    opad = f'{0x5c:0>8b}' * (L//8)\n",
    "    ipad = f'{0x36:0>8b}' * (L//8)\n",
    "    \n",
    "    o_key_pad = xor(padded_K, opad)\n",
    "    i_key_pad = xor(padded_K, ipad)\n",
    "    \n",
    "    return hash(o_key_pad + hash(i_key_pad + M))\n",
    "    "
   ]
  },
  {
   "cell_type": "code",
   "execution_count": 14,
   "metadata": {},
   "outputs": [],
   "source": [
    "def hash(i):\n",
    "    m = hashlib.sha256()\n",
    "    m.update(int(i,2).to_bytes(len(i),'little'))\n",
    "    return format(int(m.hexdigest(),16),'0256b')"
   ]
  },
  {
   "cell_type": "code",
   "execution_count": 15,
   "metadata": {},
   "outputs": [],
   "source": [
    "# def hash(i):\n",
    "#     m = hashlib.sha256()\n",
    "#     m.update(i.to_bytes())\n",
    "#     return int(m.hexdigest(),16)"
   ]
  },
  {
   "cell_type": "code",
   "execution_count": 16,
   "metadata": {},
   "outputs": [
    {
     "name": "stdout",
     "output_type": "stream",
     "text": [
      "True\n",
      "True\n",
      "True\n"
     ]
    }
   ],
   "source": [
    "print(HMAC('0010111000111100100000001100001000110000100011001110011110010000','0100011001010010011011010100100100011101011101111011010000101010')\n",
    "    == '1101011010010010001001010001100000001011000100001100101110111010000001000000110000001111011111110101011101111010110111001111001001001010000011110101110101010000100011110100101000111001000111000011111000011111001001110000110001111100110011110010100110000100')\n",
    "print(HMAC('1000110000100011001111011101000000010001110101110011101011000110','1100110101011010110010110011001001010000000000111000011011000011')\n",
    "    == '0100010101000110011101000100111010101111011110001010001001011000010001011100010100000000010010110000100010010101011011000010111000001110000101100011101100111111001000101101110011101100001111000000011111011111100001010111010011010010101100010101011100111010')\n",
    "print(HMAC('0010100101111010101111100000101110110001011111100101000010001010','1110001110111101101100001010001110011101011111101010110011000000')\n",
    "    == '1101010101011101110011000000111100111100100100011001011000001011101001100011011011010100110100010110101100000011010100000100111100111111100001110100000100100111100011111011000110101010000101110001110111101110011001000010001001001010010011000000111000011111')"
   ]
  },
  {
   "cell_type": "markdown",
   "metadata": {},
   "source": [
    "Zmienne $msg\\_enc1$ oraz $msg\\_enc2$ zawierają dwie wiadomości. Jedna z nich jest poprawna druga ma zmieniony jeden bit. Wiemy, że wiadomośc zaszyfrowano za pomocą DESa z kluczem $key$ i nadawca dodał do niej kod HMAC zawarty w zmiennej $hmac$. Sprawdź, która z otrzymanych wiadomości jest poprawna."
   ]
  },
  {
   "cell_type": "code",
   "execution_count": 17,
   "metadata": {},
   "outputs": [],
   "source": [
    "msg_enc1 = '0110011010100110101010011000011111010000110111011011110110110101'\n",
    "msg_enc2 = '0110011010100110101010011000011111010000110111010011110110110101'\n",
    "key = '0001101100001110010010101101001101101010000100100000100001101100'"
   ]
  },
  {
   "cell_type": "code",
   "execution_count": 18,
   "metadata": {},
   "outputs": [],
   "source": [
    "hmac = '1010011101011000110010101011100100001001110111010000110100110111001001110010001101001010000011010001001101010100000010100111110010101011001101001010101100110110000101101110100000010001101011011011110011110111011100110000011010110001110000011000011100101001'"
   ]
  },
  {
   "cell_type": "code",
   "execution_count": 19,
   "metadata": {},
   "outputs": [
    {
     "data": {
      "text/plain": [
       "True"
      ]
     },
     "execution_count": 19,
     "metadata": {},
     "output_type": "execute_result"
    }
   ],
   "source": [
    "HMAC(key, msg_enc1) == hmac"
   ]
  },
  {
   "cell_type": "code",
   "execution_count": 20,
   "metadata": {},
   "outputs": [
    {
     "data": {
      "text/plain": [
       "False"
      ]
     },
     "execution_count": 20,
     "metadata": {},
     "output_type": "execute_result"
    }
   ],
   "source": [
    "HMAC(key, msg_enc2) == hmac"
   ]
  },
  {
   "cell_type": "markdown",
   "metadata": {},
   "source": [
    "## Zadanie 4 (2 pkt.)"
   ]
  },
  {
   "cell_type": "markdown",
   "metadata": {},
   "source": [
    "Napisz funkcję $sign(file\\_name, e, n)$ generującą podpis elektroniczny pliku, gdzie $file\\_name$ to nazwa pliku, $e$ i $n$ to klucz prywatny algorymtu RSA, oznaczenia jak na liście 7., funkcja ma zwracać podpis w postaci stringu z zapisem szesnastkowym."
   ]
  },
  {
   "cell_type": "code",
   "execution_count": 21,
   "metadata": {},
   "outputs": [],
   "source": [
    "def pow_mod(x,n,m):\n",
    "    p = 1\n",
    "    bits = f\"{n:b}\"\n",
    "    for b in bits:\n",
    "        p = (p**2) % m\n",
    "        if b == '1':\n",
    "            p = (p*x) % m\n",
    "            \n",
    "    return p\n",
    "\n",
    "def enc(x,e,n):\n",
    "    x = int(x, 16)\n",
    "    y = pow_mod(x, e, n)\n",
    "    return f'{y:0x}'\n",
    "    \n",
    "def dec(y,d,n):\n",
    "    y = int(y, 16)\n",
    "    x = pow_mod(y, d, n)\n",
    "    return f'{x:0x}'\n",
    "\n",
    "def inv(p,n):\n",
    "    t, nt = 0, 1\n",
    "    r, nr = n, p\n",
    "    \n",
    "    while nr != 0:\n",
    "        q = r // nr\n",
    "        t, nt = nt, t - q * nt\n",
    "        r, nr = nr, r - q * nr\n",
    "        \n",
    "    if t < 0:\n",
    "        t = t + n\n",
    "        \n",
    "    return t\n",
    "\n",
    "def key_gen(p,q):\n",
    "    n = p * q\n",
    "    fi = (q - 1) * (p - 1)\n",
    "    e = 2 ** (2 ** 4) + 1\n",
    "    d = inv(e, fi)\n",
    "    return (n, e, d)"
   ]
  },
  {
   "cell_type": "code",
   "execution_count": 22,
   "metadata": {},
   "outputs": [],
   "source": [
    "def sign(file_name, e, n):\n",
    "    file = open(file_name,'rb')\n",
    "    data = file.read()\n",
    "    file.close()\n",
    "    \n",
    "    hash = hashlib.sha256(data).hexdigest()\n",
    "    \n",
    "    return enc(hash, e, n)"
   ]
  },
  {
   "cell_type": "markdown",
   "metadata": {},
   "source": [
    "Napisz funkcję $check\\_sign(file\\_name, d, n, sign)$ weryfikującą autentyczność podpisu, gdzie $file\\_name$ to nazwa pliku $d$ i $n$ to klucz publiczny autora podpisu a $sign$ to podpis, funkcja ma zwracać $True$ lub $False$."
   ]
  },
  {
   "cell_type": "code",
   "execution_count": 23,
   "metadata": {},
   "outputs": [],
   "source": [
    "def check_sign(file_name, d, n, sign):\n",
    "    file = open(file_name, 'rb')\n",
    "    data = file.read()\n",
    "    data_hex = data.hex()\n",
    "    file.close()\n",
    "    \n",
    "    hash_from_data = hashlib.sha256(data).hexdigest()\n",
    "    decrypted_key = dec(sign, d, n)\n",
    "     \n",
    "    return hash_from_data == decrypted_key"
   ]
  },
  {
   "cell_type": "markdown",
   "metadata": {},
   "source": [
    "Wygeneruj klucze RSA z liczb pierwszych $p$ i $q$ i użyj ich w testach."
   ]
  },
  {
   "cell_type": "code",
   "execution_count": 24,
   "metadata": {},
   "outputs": [],
   "source": [
    "p=24130780476900131841553779066939443255102203937160657723394451174808141403858935238883126295228560935516885174421847238379397184900972008801015315248328437\n",
    "q=26660613491521684005574100352062919789979599401844483402246984186988668019447679726081352452799126206997555710356464145743285983450292024894053538317854159"
   ]
  },
  {
   "cell_type": "code",
   "execution_count": 25,
   "metadata": {},
   "outputs": [],
   "source": [
    "n, e, d = key_gen(p, q)"
   ]
  },
  {
   "cell_type": "code",
   "execution_count": 26,
   "metadata": {},
   "outputs": [
    {
     "name": "stdout",
     "output_type": "stream",
     "text": [
      "True\n",
      "True\n"
     ]
    }
   ],
   "source": [
    "print(sign('correlation.png',e,n)=='1d5e7cd47f75b13159a37c8ffb3ba7d9f43a21f4758ae06e856da0a468fd1772f7b8b52d0f948fd02610e0e05a54c0fff12d7bd27575583cfdf53b124e9c0e95df1de156aa0af52239f1329ab69000b4a6a61d3d45f190c4b9df4ca4b7d30904162727353a8fb09c9faf847eeb0f6f65394d92cb57ced2cdcff36c444394e3fff')\n",
    "print(sign('Campin_Boze_Narodzenie1.png',e,n)=='1c6097177871bb4873fcd0ae658d28f46fcc54e4b0e595954a57c0008f8b86c7427cecf28296240025941fe2a019b80fcc5f43c4cae6b1d2163cecf8438336d3da6e33ae326dfa2c0e5ea7bbad511dd140bc7b0cd34829623bfd02bc66bc9b43d57443b7fd950bea5cb5f5df99d8611eeb0d4458b19809e3ff86abf6538c3e453')"
   ]
  },
  {
   "cell_type": "code",
   "execution_count": 27,
   "metadata": {},
   "outputs": [
    {
     "name": "stdout",
     "output_type": "stream",
     "text": [
      "True\n",
      "True\n",
      "True\n",
      "True\n"
     ]
    }
   ],
   "source": [
    "print(check_sign('correlation.png',d,n,'1d5e7cd47f75b13159a37c8ffb3ba7d9f43a21f4758ae06e856da0a468fd1772f7b8b52d0f948fd02610e0e05a54c0fff12d7bd27575583cfdf53b124e9c0e95df1de156aa0af52239f1329ab69000b4a6a61d3d45f190c4b9df4ca4b7d30904162727353a8fb09c9faf847eeb0f6f65394d92cb57ced2cdcff36c444394e3fff')==True)\n",
    "print(check_sign('correlation.png',d,n,'1d5e7cd47f75b13159a37c8ffb3ba7d9f43a21f4758ae06e856ba0a468fd1772f7b8b52d0f948fd02610e0e05a54c0fff12d7bd27575583cfdf53b124e9c0e95df1de156aa0af52239f1329ab69000b4a6a61d3d45f190c4b9df4ca4b7d30904162727353a8fb09c9faf847eeb0f6f65394d92cb57ced2cdcff36c444394e3fff')==False)\n",
    "print(check_sign('Campin_Boze_Narodzenie1.png',d,n,'1c6097177871bb4873fcd0ae658d28f46fcc54e4b0e595954a57c0008f8b86c7427cecf28296240025941fe2a019b80fcc5f43c4cae6b1d2163cecf8438336d3da6e33ae326dfa2c0e5ea7bbad511dd140bc7b0cd34829623bfd02bc66bc9b43d57443b7fd950bea5cb5f5df99d8611eeb0d4458b19809e3ff86abf6538c3e453')==True)\n",
    "print(check_sign('Campin_Boze_Narodzenie1.png',d,n,'1c6097177871bb4873fcd0ae658d28f46fec54e4b0e595954a57c0008f8b86c7427cecf28296240025941fe2a019b80fcc5f43c4cae6b1d2163cecf8438336d3da6e33ae326dfa2c0e5ea7bbad511dd140bc7b0cd34829623bfd02bc66bc9b43d57443b7fd950bea5cb5f5df99d8611eeb0d4458b19809e3ff86abf6538c3e453')==False)"
   ]
  },
  {
   "cell_type": "markdown",
   "metadata": {},
   "source": [
    "## Zadanie 5 (2 pkt.)"
   ]
  },
  {
   "cell_type": "markdown",
   "metadata": {},
   "source": [
    "\"Kopanie\" Bitcoina polega w uproszczeniu na szukaniu liczby dla której funkcja skrótu zwraca wartość mniejszą niż pewien próg, tzn. wartośc funkcji skrótu musi zaczynać się odpowiednią liczbą zer w zapisie bitowym. Jako, że funkcja skrótu ma właściwości pseudolosowe, szukamy tej liczby sprawdzając po kolei wszystkie liczby. Napisz funkcję $mine(d)$, szukającą takiej liczby $i$ dla której $SHA256(i)$ zaczyna się w zapisie bitowym $d$ zerami. Podstawiaj kolejno liczby $0,1,2,3,...$. Funkcja ma zwracać liczbę dla której udało się spełnić warunek.\n",
    "\n",
    "Uwaga: aby podać zmienną typu $int$ jako argument do hashlib.sha256() należy przekonwerstować ją za pomocą $bytes()$"
   ]
  },
  {
   "cell_type": "code",
   "execution_count": 28,
   "metadata": {},
   "outputs": [],
   "source": [
    "from random import randint\n",
    "\n",
    "def mine(diff, rand=False, rand_limit=10**7):\n",
    "    \n",
    "    i = 0\n",
    "    x = 0\n",
    "    starting_bits = '0' * diff\n",
    "    \n",
    "    if rand:\n",
    "        x = randint(0, rand_limit)\n",
    "    \n",
    "    def hex2bin(h):\n",
    "        return f\"{int(h, 16):0b}\".rjust(len(h)*4, '0')\n",
    "\n",
    "    def next_b():\n",
    "        hash = hashlib.sha256(x.to_bytes(32, 'big')).hexdigest()\n",
    "        return hex2bin(hash)\n",
    "    \n",
    "    b = next_b()\n",
    "    while not b.startswith(starting_bits):\n",
    "        \n",
    "        if rand:\n",
    "            x = randint(0, rand_limit)\n",
    "        else:\n",
    "            x += 1\n",
    "        i += 1    \n",
    "        b = next_b()\n",
    "        \n",
    "        if i > 10**12:\n",
    "            raise ArithmeticError('Too big to calculate')\n",
    "        \n",
    "    return(i)"
   ]
  },
  {
   "cell_type": "markdown",
   "metadata": {},
   "source": [
    "Wykonaj funkcję $mine(d)$ dla kilkunastu wartości $d$ i narysuj wykres $plt.scatter()$ zależności $i(d)$.\n",
    "\n",
    "Uwaga: użyj skali logarytmicznej $plt.yscale('symlog')$.\n",
    "\n",
    "Zastanów się ile teoretycznie (średnio) należy wykonać prób aby znaleźć funkcję skrótu z $d$ zerami na początku. Narysuj na wykresie linię obrazującą tą zależność i porównaj z punktami uzyskanymi z funkcji $mine()$.\n",
    "\n",
    "Powtórz pomiary, ale zamiast brać kolejne liczby, bierz losowe. Sprawdź czy daje to lepsze rezultaty."
   ]
  },
  {
   "cell_type": "code",
   "execution_count": 29,
   "metadata": {},
   "outputs": [],
   "source": [
    "def scatter(data):\n",
    "    ax = plt.figure(figsize=(10,8)).gca()\n",
    "    ax.yaxis.get_major_locator().set_params(integer=True)\n",
    "    ax.xaxis.get_major_locator().set_params(integer=True)\n",
    "    plt.yscale('symlog')\n",
    "    for i in range(0, len(data)):\n",
    "        x, y = data[i]\n",
    "        plt.scatter(x, y, facecolors='none', edgecolors='b')\n",
    "        plt.text(x + .05, y + .05, f\"{i+1}\")"
   ]
  },
  {
   "cell_type": "code",
   "execution_count": 30,
   "metadata": {},
   "outputs": [
    {
     "data": {
      "text/plain": [
       "[<matplotlib.lines.Line2D at 0x7f88400b3580>]"
      ]
     },
     "execution_count": 30,
     "metadata": {},
     "output_type": "execute_result"
    },
    {
     "data": {
      "image/png": "[encoded data removed]",
      "text/plain": [
       "<Figure size 720x576 with 1 Axes>"
      ]
     },
     "metadata": {
      "needs_background": "light"
     },
     "output_type": "display_data"
    }
   ],
   "source": [
    "data = []\n",
    "i = 0\n",
    "\n",
    "for d in range(20):\n",
    "    i = mine(d)\n",
    "    data.append([d, i])\n",
    "    \n",
    "scatter(data)\n",
    "x = np.linspace(0,20);\n",
    "plt.plot(x, 2**x)"
   ]
  },
  {
   "cell_type": "markdown",
   "metadata": {},
   "source": [
    "Skoro ciąg bitów jest pseudolosowy, to na każdym kolejnym polu będzie jedna z dwóch wartości: '0' lub '1'. "
   ]
  },
  {
   "cell_type": "code",
   "execution_count": 31,
   "metadata": {},
   "outputs": [
    {
     "data": {
      "text/plain": [
       "[<matplotlib.lines.Line2D at 0x7f88312fbc70>]"
      ]
     },
     "execution_count": 31,
     "metadata": {},
     "output_type": "execute_result"
    },
    {
     "data": {
      "image/png": "[encoded data removed]",
      "text/plain": [
       "<Figure size 720x576 with 1 Axes>"
      ]
     },
     "metadata": {
      "needs_background": "light"
     },
     "output_type": "display_data"
    }
   ],
   "source": [
    "data = []\n",
    "i = 0\n",
    "\n",
    "for d in range(20):\n",
    "    i = mine(d, rand=True)\n",
    "    data.append([d, i])\n",
    "    \n",
    "scatter(data)\n",
    "plt.plot(x, 2**x)"
   ]
  },
  {
   "cell_type": "code",
   "execution_count": null,
   "metadata": {},
   "outputs": [],
   "source": []
  }
 ],
 "metadata": {
  "kernelspec": {
   "display_name": "Python 3 (ipykernel)",
   "language": "python",
   "name": "python3"
  },
  "language_info": {
   "codemirror_mode": {
    "name": "ipython",
    "version": 3
   },
   "file_extension": ".py",
   "mimetype": "text/x-python",
   "name": "python",
   "nbconvert_exporter": "python",
   "pygments_lexer": "ipython3",
   "version": "3.9.5"
  }
 },
 "nbformat": 4,
 "nbformat_minor": 4
}
