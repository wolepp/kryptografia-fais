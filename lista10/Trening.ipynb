{
 "cells": [
  {
   "cell_type": "markdown",
   "metadata": {},
   "source": [
    "# Ćwiczenia treningowe"
   ]
  },
  {
   "cell_type": "markdown",
   "metadata": {},
   "source": [
    "Importujemy niezbędne elementy biblioteki Qiskit."
   ]
  },
  {
   "cell_type": "code",
   "execution_count": 1,
   "metadata": {},
   "outputs": [],
   "source": [
    "from qiskit import QuantumCircuit, BasicAer, execute\n",
    "from qiskit.visualization import plot_histogram"
   ]
  },
  {
   "cell_type": "markdown",
   "metadata": {},
   "source": [
    "Tworzymy obwód kwantowy, składający się z dwóch kubitów i dwóch bitów klasycznych, te ostatnie nizebędne są po to aby móc rejestrować wyniki pomiarów."
   ]
  },
  {
   "cell_type": "code",
   "execution_count": 2,
   "metadata": {},
   "outputs": [],
   "source": [
    "qc = QuantumCircuit(2,2)"
   ]
  },
  {
   "cell_type": "markdown",
   "metadata": {},
   "source": [
    "Obwód możemy narysować."
   ]
  },
  {
   "cell_type": "code",
   "execution_count": 3,
   "metadata": {},
   "outputs": [
    {
     "data": {
      "text/html": [
       "<pre style=\"word-wrap: normal;white-space: pre;background: #fff0;line-height: 1.1;font-family: &quot;Courier New&quot;,Courier,monospace\">     \n",
       "q_0: \n",
       "     \n",
       "q_1: \n",
       "     \n",
       "c: 2/\n",
       "     </pre>"
      ],
      "text/plain": [
       "     \n",
       "q_0: \n",
       "     \n",
       "q_1: \n",
       "     \n",
       "c: 2/\n",
       "     "
      ]
     },
     "execution_count": 3,
     "metadata": {},
     "output_type": "execute_result"
    }
   ],
   "source": [
    "qc.draw()"
   ]
  },
  {
   "cell_type": "markdown",
   "metadata": {},
   "source": [
    "Jest on na razie pusty bo nie dodaliśmy żadnych bramek. Dodajmy bramkę NOT ($X$) na pierwszym kubicie i narysujmy obwód."
   ]
  },
  {
   "cell_type": "code",
   "execution_count": 4,
   "metadata": {},
   "outputs": [
    {
     "data": {
      "text/html": [
       "<pre style=\"word-wrap: normal;white-space: pre;background: #fff0;line-height: 1.1;font-family: &quot;Courier New&quot;,Courier,monospace\">     ┌───┐\n",
       "q_0: ┤ X ├\n",
       "     └───┘\n",
       "q_1: ─────\n",
       "          \n",
       "c: 2/═════\n",
       "          </pre>"
      ],
      "text/plain": [
       "     ┌───┐\n",
       "q_0: ┤ X ├\n",
       "     └───┘\n",
       "q_1: ─────\n",
       "          \n",
       "c: 2/═════\n",
       "          "
      ]
     },
     "execution_count": 4,
     "metadata": {},
     "output_type": "execute_result"
    }
   ],
   "source": [
    "qc.x(0)\n",
    "qc.draw()"
   ]
  },
  {
   "cell_type": "markdown",
   "metadata": {},
   "source": [
    "Ten sposób rysowania obwodów jest mało atrakcyjny wizualnie, dodając odpowiednią opcję możemy wygenerować ładniejszy obrazek."
   ]
  },
  {
   "cell_type": "code",
   "execution_count": 5,
   "metadata": {},
   "outputs": [
    {
     "data": {
      "image/png": "[encoded data removed]",
      "text/plain": [
       "<Figure size 146.652x204.68 with 1 Axes>"
      ]
     },
     "execution_count": 5,
     "metadata": {},
     "output_type": "execute_result"
    }
   ],
   "source": [
    "qc.draw(output='mpl')"
   ]
  },
  {
   "cell_type": "markdown",
   "metadata": {},
   "source": [
    "Dodajmy teraz elementy dokonujące pomiarów na obu kubitach."
   ]
  },
  {
   "cell_type": "code",
   "execution_count": 6,
   "metadata": {},
   "outputs": [
    {
     "data": {
      "image/png": "[encoded data removed]",
      "text/plain": [
       "<Figure size 206.852x204.68 with 1 Axes>"
      ]
     },
     "execution_count": 6,
     "metadata": {},
     "output_type": "execute_result"
    }
   ],
   "source": [
    "qc.measure([0,1],[0,1])\n",
    "qc.draw(output='mpl')"
   ]
  },
  {
   "cell_type": "markdown",
   "metadata": {},
   "source": [
    "Mając gotowy obwód możemy go uruchomić np. na symulatorze komputera kwantowego. Njapierw wybieramy odpowiedni symulator."
   ]
  },
  {
   "cell_type": "code",
   "execution_count": 7,
   "metadata": {},
   "outputs": [],
   "source": [
    "backend = BasicAer.get_backend('qasm_simulator')"
   ]
  },
  {
   "cell_type": "markdown",
   "metadata": {},
   "source": [
    "Następnie wykonujemy obwód za pomocą execute, jako argumenty podając obwód do wykonania (qc), urządzenie, w naszym przypadku symulator (backend) oraz liczbę wykonań obwodu (shots)."
   ]
  },
  {
   "cell_type": "code",
   "execution_count": 8,
   "metadata": {},
   "outputs": [],
   "source": [
    "counts = execute(qc, backend, shots=1024).result().get_counts()"
   ]
  },
  {
   "cell_type": "markdown",
   "metadata": {},
   "source": [
    "Zmienna counts zawiera otrzymane z pomiarów wyniki wraz z liczbą zliczeń."
   ]
  },
  {
   "cell_type": "code",
   "execution_count": 9,
   "metadata": {},
   "outputs": [
    {
     "name": "stdout",
     "output_type": "stream",
     "text": [
      "{'01': 1024}\n"
     ]
    }
   ],
   "source": [
    "print(counts)"
   ]
  },
  {
   "cell_type": "markdown",
   "metadata": {},
   "source": [
    "W naszym przypadku wszystkie 1024 uruchomienia dały w wyniku pomiaru '01'.\n",
    "\n",
    "Bramka $X$ zmienia $|0\\rangle$ na $|1\\rangle$ oraz $|1\\rangle$ na $|0\\rangle$. Postać macierzowa tej bramki to:\n",
    "$$X=\\left(\\begin{array}{cc}\n",
    "0&1\\\\\n",
    "1&0\\\\\n",
    "\\end{array}\\right)$$\n",
    "jako, że postać wektorowa stanów bazowych to:\n",
    "$$|0\\rangle=\\left(\\begin{array}{c}\n",
    "1\\\\\n",
    "0\\\\\n",
    "\\end{array}\n",
    "\\right)$$\n",
    "\n",
    "$$|1\\rangle=\\left(\\begin{array}{c}\n",
    "0\\\\\n",
    "1\\\\\n",
    "\\end{array}\n",
    "\\right)$$\n",
    "\n",
    "Stan początkowy obwodu domyślnie jest inicjowany jako $|00\\rangle$ następnie w wyniku dodania bramki $X$ na pierwszym kubicie stan zmienił się na $|10\\rangle$. Zatem każdy pomiar musi dać wynik '10', z tym, że Qiskit przyjmuje konwencje, że wynik zczytuje od ostaniego kubitu, stąd wynik '01'.\n",
    "\n",
    "Wynik możemy przedstawić na histogramie, pokazującym prawdopodobieństwo otrzymania wyniku, u nas jest ono oczywiście równe 1 dla wyniku '01' i 0 dla pozostałych."
   ]
  },
  {
   "cell_type": "code",
   "execution_count": 10,
   "metadata": {},
   "outputs": [
    {
     "data": {
      "image/png": "[encoded data removed]",
      "text/plain": [
       "<Figure size 504x360 with 1 Axes>"
      ]
     },
     "execution_count": 10,
     "metadata": {},
     "output_type": "execute_result"
    }
   ],
   "source": [
    "plot_histogram(counts)"
   ]
  },
  {
   "cell_type": "markdown",
   "metadata": {},
   "source": [
    "Teraz stwórzmy nowy obwód, w którym na pierwszym kubicie zamiast bramki $X$ będzie bramka Hadamarda $H$.\n",
    "\n",
    "$$H=\\frac{1}{\\sqrt{2}}\\left(\\begin{array}{cc}\n",
    "1&1\\\\\n",
    "1&-1\\\\\n",
    "\\end{array}\\right)$$\n"
   ]
  },
  {
   "cell_type": "code",
   "execution_count": 11,
   "metadata": {},
   "outputs": [
    {
     "data": {
      "image/png": "[encoded data removed]",
      "text/plain": [
       "<Figure size 206.852x204.68 with 1 Axes>"
      ]
     },
     "execution_count": 11,
     "metadata": {},
     "output_type": "execute_result"
    }
   ],
   "source": [
    "qc2 = QuantumCircuit(2,2)\n",
    "\n",
    "qc2.h(0)\n",
    "qc2.measure([0,1],[0,1])\n",
    "\n",
    "qc2.draw(output='mpl')"
   ]
  },
  {
   "cell_type": "markdown",
   "metadata": {},
   "source": [
    "Wykonajmy symulację."
   ]
  },
  {
   "cell_type": "code",
   "execution_count": 12,
   "metadata": {},
   "outputs": [
    {
     "name": "stdout",
     "output_type": "stream",
     "text": [
      "{'00': 490, '01': 534}\n"
     ]
    },
    {
     "data": {
      "image/png": "[encoded data removed]",
      "text/plain": [
       "<Figure size 504x360 with 1 Axes>"
      ]
     },
     "execution_count": 12,
     "metadata": {},
     "output_type": "execute_result"
    }
   ],
   "source": [
    "backend = BasicAer.get_backend('qasm_simulator')\n",
    "counts = execute(qc2, backend, shots=1024).result().get_counts()\n",
    "print(counts)\n",
    "plot_histogram(counts)"
   ]
  },
  {
   "cell_type": "markdown",
   "metadata": {},
   "source": [
    "Dostaliśmy mniej więcej 50% szans na wynik '00' i 50% na  wynik '01'. Bramka Hadamarda działając na stan $|0\\rangle$ tworzy stan będący superpozycją $H|0\\rangle=\\frac{1}{\\sqrt{2}}\\left(|0\\rangle+|1\\rangle\\right)$.\n",
    "\n",
    "$$H|0\\rangle=\\frac{1}{\\sqrt{2}}\\left(\\begin{array}{cc}\n",
    "1&1\\\\\n",
    "1&-1\\\\\n",
    "\\end{array}\\right)\\left(\\begin{array}{c}\n",
    "1\\\\\n",
    "0\\\\\n",
    "\\end{array}\n",
    "\\right)=\\frac{1}{\\sqrt{2}}\\left(\\begin{array}{c}\n",
    "1\\\\\n",
    "1\\\\\n",
    "\\end{array}\n",
    "\\right)=\\frac{1}{\\sqrt{2}}\\left(|0\\rangle+|1\\rangle\\right)$$\n",
    "\n",
    "Zatem nasz obwód startując ze stanu $|00\\rangle$ przeszedł w stan $\\frac{1}{\\sqrt{2}}\\left(|00\\rangle+|10\\rangle\\right)$. Stąd w wyniku pomiaru mamy prawdopodobieństwo $|\\frac{1}{\\sqrt{2}}|^2=\\frac{1}{2}$ wyniku '00' i '01'.\n",
    "\n",
    "Wyniki otrzymane z symulacji nie są dokładne ze względu na błędy statystyczne. Rzucając idealną monetą też nie zawsze dostaniemy tyle samo orłów i reszek. Zwiększając liczbę ewaluacji obwodu możemy uzyskać lepsze wyniki."
   ]
  },
  {
   "cell_type": "code",
   "execution_count": 13,
   "metadata": {},
   "outputs": [
    {
     "name": "stdout",
     "output_type": "stream",
     "text": [
      "{'00': 4118, '01': 4078}\n"
     ]
    },
    {
     "data": {
      "image/png": "[encoded data removed]",
      "text/plain": [
       "<Figure size 504x360 with 1 Axes>"
      ]
     },
     "execution_count": 13,
     "metadata": {},
     "output_type": "execute_result"
    }
   ],
   "source": [
    "backend = BasicAer.get_backend('qasm_simulator')\n",
    "counts = execute(qc2, backend, shots=8196).result().get_counts()\n",
    "print(counts)\n",
    "plot_histogram(counts)"
   ]
  },
  {
   "cell_type": "markdown",
   "metadata": {},
   "source": [
    "Gdybyśmy wykonali ten obwód na prawdziwym komputerze kwantowym błędy byłyby jeszcze wieksze ze względu na szum obecny w takim sprzęcie.\n",
    "\n",
    "Zauważmy, że drugi kubit daje zawsze wynik '0' i nie jest on w żaden sposób skorelowany z pierwszym. Wynika to z tego, że te dwa kubity są w stanie separowalnym (tzn. nie splątanym), czyli ich stan kwantowy można zapsiać jako iloczyn stanu jednego i drugiego: $\\frac{1}{\\sqrt{2}}\\left(|00\\rangle+|10\\rangle\\right)=\\frac{1}{\\sqrt{2}}\\left(|0\\rangle+|1\\rangle\\right)|0\\rangle$. Wygenerujmy więc stan nieseparowalny (splątany). Zrobimy to za pomocą bramki Hadamarda oraz bramki CNOT, ta druga jest bramką dwukubitową, tj. działa na dwa kubity i dzięki temu może wprowadzić między nimi splątanie."
   ]
  },
  {
   "cell_type": "code",
   "execution_count": 14,
   "metadata": {},
   "outputs": [
    {
     "data": {
      "image/png": "[encoded data removed]",
      "text/plain": [
       "<Figure size 327.252x204.68 with 1 Axes>"
      ]
     },
     "execution_count": 14,
     "metadata": {},
     "output_type": "execute_result"
    }
   ],
   "source": [
    "qc3 = QuantumCircuit(2,2)\n",
    "\n",
    "qc3.h(0)\n",
    "qc3.cx(0,1)\n",
    "qc3.measure([0,1],[0,1])\n",
    "\n",
    "qc3.draw(output='mpl')"
   ]
  },
  {
   "cell_type": "markdown",
   "metadata": {},
   "source": [
    "Bramka ta wykonuje operację $X$ na drugim kubicie pod warunkiem, ze na pierwszym jest stan $|1\\rangle$. Tzn.\n",
    "$$CNOT|00\\rangle=|00\\rangle$$\n",
    "$$CNOT|01\\rangle=|01\\rangle$$\n",
    "$$CNOT|10\\rangle=|11\\rangle$$\n",
    "$$CNOT|11\\rangle=|10\\rangle$$\n",
    "\n",
    "Zatem nasz obwód, startuje ze stanu $|00\\rangle$, po zadziałaniu $H$ dostajemy $\\frac{1}{\\sqrt{2}}\\left(|00\\rangle+|10\\rangle\\right)$ a po zadziałaniu CNOT dostajemy $\\frac{1}{\\sqrt{2}}\\left(|00\\rangle+|11\\rangle\\right)$. Zauważmy, że jest to stan splątany tzn. nie da się zapisać jako iloczyn stanu jednego kubitu i drugiego. Wobec tego teraz z prawdopodobieństwem $\\frac{1}{2}$ dostaniemy wynik '00' i z takim samym prawdopodobieństwem wynik '11', ale zawsze jeśli na pierwszy kubicie będzie wynik '0' to na drugim również '0' a jeśli na pierwszym '1' to na drugim również '1'. Mamy zatem całkowitą korelację wyników pomiędzy tymi kubitami, jest to właśnie efekt splątania. Sprawdźmy czy wszysko działa w symulacji."
   ]
  },
  {
   "cell_type": "code",
   "execution_count": 15,
   "metadata": {},
   "outputs": [
    {
     "name": "stdout",
     "output_type": "stream",
     "text": [
      "{'11': 485, '00': 539}\n"
     ]
    },
    {
     "data": {
      "image/png": "[encoded data removed]",
      "text/plain": [
       "<Figure size 504x360 with 1 Axes>"
      ]
     },
     "execution_count": 15,
     "metadata": {},
     "output_type": "execute_result"
    }
   ],
   "source": [
    "backend = BasicAer.get_backend('qasm_simulator')\n",
    "counts = execute(qc3, backend, shots=1024).result().get_counts()\n",
    "print(counts)\n",
    "plot_histogram(counts)"
   ]
  },
  {
   "cell_type": "markdown",
   "metadata": {},
   "source": [
    "Warto jeszcze zwócić uwagę na kwestię pomiaru w mechanice kwantowej. W wyniku pomiaru stan kolapsuje na jeden z wektorów własnych obserwabli, którą mierzymy (jeden z wektórów bazy w której mierzymy), w przypadku komputerów kwantowych pomiar jest zawsze w tzw. bazie $Z$, tzn. w tej bazie w której są zapisane wszystkie stany, czyli $|0\\rangle$ i $|1\\rangle$ dla pojedyńczego kubitu.\n",
    "\n",
    "Rozpatrzmy przykład stanu:\n",
    "\n",
    "$$\\frac{1}{2}|00\\rangle+\\frac{\\sqrt{3}}{2}|10\\rangle$$\n",
    "\n",
    "mamy tu dwa możliwe wyniki pomiaru:\n",
    "1. dostajemy w wyniku pomiaru '00' i stan kolapsuje $$\\frac{1}{2}|00\\rangle+\\frac{\\sqrt{3}}{2}|10\\rangle\\longrightarrow|00\\rangle$$ taka sytuacja zajdzie z prawdopodobieństwem $|\\frac{1}{2}|^2=\\frac{1}{4}$\n",
    "1. dostajemy w wyniku pomiaru '10' i stan kolapsuje $$\\frac{1}{2}|00\\rangle+\\frac{\\sqrt{3}}{2}|10\\rangle\\longrightarrow|10\\rangle$$ taka sytuacja zajdzie z prawdopodobieństwem $|\\frac{\\sqrt{3}}{2}|^2=\\frac{3}{4}$"
   ]
  }
 ],
 "metadata": {
  "kernelspec": {
   "display_name": "Python 3 (ipykernel)",
   "language": "python",
   "name": "python3"
  },
  "language_info": {
   "codemirror_mode": {
    "name": "ipython",
    "version": 3
   },
   "file_extension": ".py",
   "mimetype": "text/x-python",
   "name": "python",
   "nbconvert_exporter": "python",
   "pygments_lexer": "ipython3",
   "version": "3.9.5"
  }
 },
 "nbformat": 4,
 "nbformat_minor": 4
}
