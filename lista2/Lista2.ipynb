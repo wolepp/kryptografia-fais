{
 "cells": [
  {
   "cell_type": "markdown",
   "metadata": {},
   "source": [
    "# Lista 2 (7 pkt.)"
   ]
  },
  {
   "cell_type": "code",
   "execution_count": 1,
   "metadata": {},
   "outputs": [],
   "source": [
    "import string\n",
    "from PIL import Image\n",
    "import numpy as np\n",
    "import matplotlib.pyplot as plt\n",
    "from matplotlib.colors import LogNorm"
   ]
  },
  {
   "cell_type": "markdown",
   "metadata": {},
   "source": [
    "## Zadanie 1. (1 pkt)\n",
    "To zadanie należy wykonać ręcznie, bez używania komputera, korzystając z instrukcji z wykładu. Zaszyfruj wiadomość o treści: \"NEW 15 HELICOPTERS.\", za pomocą klucza: 68496 47757 10126 36660 25066. Do słów, które są tabeli poniżej użyj odpowiednio ich kodów. Uwaga: w wiadomości jest liczba mnoga \"helicopterS\"."
   ]
  },
  {
   "cell_type": "markdown",
   "metadata": {},
   "source": [
    "\n",
    "$\\begin{array}{|c|c|c|c|c|c|c|c|c|c|}\n",
    "\\hline\n",
    "CODE&A&E&I&N&O&T&&\\\\\n",
    "0&1&2&3&4&5&6&&&\\\\\n",
    "\\hline\n",
    "B&C&D&F&G&H&J&K&L&M\\\\\n",
    "70&71&72&73&74&75&76&77&78&79\\\\\n",
    "\\hline\n",
    "P&Q&R&S&U&V&W&X&Y&Z\\\\\n",
    "80&81&82&83&84&85&86&87&88&89\\\\\n",
    "\\hline\n",
    "FIG&.&:&,/'&(/)&+&-&=&REG/?&SPC\\\\\n",
    "90&91&92&93&94&95&96&97&98&99\\\\\n",
    "\\hline\n",
    "\\end{array}$"
   ]
  },
  {
   "cell_type": "markdown",
   "metadata": {},
   "source": [
    "$\\begin{array}{|cc|cc|cc|cc|}\n",
    "\\hline\n",
    "000&ABORT&253&DECODE&505&MILITARY&758&STREET\\\\\n",
    "\\hline\n",
    "019&ACCEPT&262&DELAY&514&MONEY&767&SUBWAY\\\\\n",
    "\\hline\n",
    "028&ACCESS&271&DIFFICULT&523&MONTH&776&SUCCESS\\\\\n",
    "\\hline\n",
    "037&ADDRESS&280&DOCUMENT&532&MORNING&785&SUPPLY\\\\\n",
    "\\hline\n",
    "046&AFFIRMATIVE&299&ENCODE&541&MORSE&794&SUPPORT\\\\\n",
    "\\hline\n",
    "055&AGENT&307&EVENING&550&NEGATIVE&802&TELEPHONE\\\\\n",
    "\\hline\n",
    "064&AIRPLANE&316&EXECUTE&569&NIGHT&811&TODAY\\\\\n",
    "\\hline\n",
    "073&AIRPORT&325&FACTORY&578&OBSERVATION&820&TOMORROW\\\\\n",
    "\\hline\n",
    "082&ANSWER&334&FAILED&587&PASSPORT&839&TRAIN\\\\\n",
    "\\hline\n",
    "091&AUTHORITY&343&FERRY&596&PERSON&848&TRANSFER\\\\\n",
    "\\hline\n",
    "109&BETWEEN&352&FLIGHT&604&PHOTOGRAPH&857&TRANSMIT\\\\\n",
    "\\hline\n",
    "118&BORDER&361&FREQUENCY&613&POSITIVE&866&TRAVEL\\\\\n",
    "\\hline\n",
    "127&BUILDING&370&HARBOUR&622&POSSIBLE&875&TRUCK\\\\\n",
    "\\hline\n",
    "136&CANCEL&389&HELICOPTER&631&POWER&884&UNABLE TO\\\\\n",
    "\\hline\n",
    "145&CHANGE&398&HIGHWAY&640&PRIORITY&893&URGENT\\\\\n",
    "\\hline\n",
    "154&CIVILIAN&406&IDENTITY&659&PROBLEM&901&VERIFY\\\\\n",
    "\\hline\n",
    "163&COMPROMISE&415&IMMEDIATE&668&QUESTION&910&WEEK\\\\\n",
    "\\hline\n",
    "172&COMPUTER&424&IMPOSSIBLE&677&RADIO&929&WITHIN\\\\\n",
    "\\hline\n",
    "181&CONFIRM&433&INFORMATION&686&RECEIVE&938&YESTERDAY\\\\\n",
    "\\hline\n",
    "190&CONTACT&442&INSTRUCTIONS&695&RENDEZVOUS&&\\\\\n",
    "\\hline\n",
    "208&COORDINATE&451&LOCATE&703&REPEAT&&\\\\\n",
    "\\hline\n",
    "217&COUNTRY&460&LOCATION&712&RESERVATION&&\\\\\n",
    "\\hline\n",
    "226&COVERT&479&MAIL&721&ROUTINE&\\\\\n",
    "\\hline\n",
    "235&CURRENT&488&MEETING&730&SATELLITE&\\\\\n",
    "\\hline\n",
    "244&DANGER&497&MESSAGE&749&SHIP&\\\\\n",
    "\\hline\n",
    "\\end{array}$"
   ]
  },
  {
   "cell_type": "markdown",
   "metadata": {},
   "source": [
    "### Odpowiedź\n",
    "\n",
    "Kodowanie \n",
    "```\n",
    "KEYID|N|E|W |FIG| 1 | 5 |FIG|HELICOPTER|S\n",
    "64896|4|2|86| 90|111|555|90 |  0389    |83\n",
    "```\n",
    "\n",
    "Szyfrowanie\n",
    "```\n",
    "zakodowane  | 64896 42869 01115 55900 38983\n",
    "klucz       | 64896 47757 10126 36660 25066\n",
    "różnica mod | 00000 05112 91099 29340 13927\n",
    "\n",
    "```\n",
    "\n",
    "**Szyfr**: 00000 05112 91099 29340 13927"
   ]
  },
  {
   "cell_type": "markdown",
   "metadata": {},
   "source": [
    "## Zadanie 2 (1 pkt)\n",
    "To zadanie również jest do zrobienia ręcznie. Na stronie internetowej kursu akapit tekstu w sekcji \"Wykład\" oraz akapit w sekcji \"Labolatorium\" zawiera wiadomość zakodowaną metodą WPS (Words Per Sentence). Odkoduj ją przy użyciu klucza otrzymanego na zajęciach."
   ]
  },
  {
   "cell_type": "markdown",
   "metadata": {},
   "source": [
    "Uwaga: Ostatnia cyfra po deszyfracji powinna wyjść 2, nie 0.\n",
    "\n",
    "```\n",
    "szyfr        | 27327060743\n",
    "klucz        | 27325800707\n",
    "(C+K) mod 10 | ---"
   ]
  },
  {
   "cell_type": "markdown",
   "metadata": {},
   "source": [
    "## Zadanie 3. (1 pkt)\n",
    "Wczytaj obrazki 'miki.png' oraz 'quest.png'."
   ]
  },
  {
   "cell_type": "code",
   "execution_count": 4,
   "metadata": {},
   "outputs": [
    {
     "data": {
      "image/png": "[encoded data removed]",
      "text/plain": [
       "<PIL.Image.Image image mode=L size=200x207 at 0x7F59CC0E7880>"
      ]
     },
     "execution_count": 4,
     "metadata": {},
     "output_type": "execute_result"
    }
   ],
   "source": [
    "img1 = Image.open('miki.png').convert('L')\n",
    "img1"
   ]
  },
  {
   "cell_type": "code",
   "execution_count": 5,
   "metadata": {},
   "outputs": [
    {
     "data": {
      "image/png": "[encoded data removed]",
      "text/plain": [
       "<PIL.Image.Image image mode=L size=200x207 at 0x7F59E877CA00>"
      ]
     },
     "execution_count": 5,
     "metadata": {},
     "output_type": "execute_result"
    }
   ],
   "source": [
    "img2 = Image.open('quest.png').convert('L')\n",
    "img2"
   ]
  },
  {
   "cell_type": "markdown",
   "metadata": {},
   "source": [
    "Napisz funkcję add_pic(img1, img2), która przyjmuje dwa obrazki i je dodaje piksel po pikselu za pomocą XOR, czyli biały+biały=czarny, biały+czarny=biały, czarny+czarny=czarny. Warto wykorzystać to, że np.array(img) zwraca tablicę, z wartościami 255 dla białych pikseli i 0 dla czarnych, aby zamienić tablicę z powrotem na obraz należy użyc Image.fromarray() przy czym tablica musi być typu np.uint8 czyli na tworząc tablicę podajemy typ: np.array([1,2,3,4], dtype=np.uint8). Funkcja ma zwracać obrazek."
   ]
  },
  {
   "cell_type": "code",
   "execution_count": 6,
   "metadata": {},
   "outputs": [],
   "source": [
    "from PIL import ImageChops\n",
    "\n",
    "def add_pic(img1, img2):\n",
    "    return ImageChops.logical_xor(img1.convert('1'), img2.convert('1'))"
   ]
  },
  {
   "cell_type": "markdown",
   "metadata": {},
   "source": [
    "Wygeneruj (pseudo)losowy klucz, czyli obrazek z losowymi białymi i czarnymi pikselami, użyj np.random. Następnie zaszyfruj tym kluczem, za pomocą add_pic, oba obrazki img1 i img2. Zauważ, że oba obrazki wyglądają na dobrze zaszyfrowane, zobacz jednak co się wydarzy kiedy dodasz do siebie te zaszyfrowane obrazki."
   ]
  },
  {
   "cell_type": "code",
   "execution_count": 7,
   "metadata": {},
   "outputs": [],
   "source": [
    "def generate_random_img():\n",
    "    imarray = np.ones(200*207, dtype=np.uint8) * 255\n",
    "    imarray[:100*207] = 0\n",
    "    np.random.shuffle(imarray)\n",
    "\n",
    "    imarray = imarray.reshape(200, 207)\n",
    "\n",
    "    key_img = Image.fromarray(imarray).convert('1')\n",
    "    return key_img"
   ]
  },
  {
   "cell_type": "code",
   "execution_count": 8,
   "metadata": {},
   "outputs": [],
   "source": [
    "the_one_and_only_key_img = generate_random_img()\n",
    "\n",
    "img1_enc = add_pic(img1, the_one_and_only_key_img)\n",
    "img2_enc = add_pic(img2, the_one_and_only_key_img)"
   ]
  },
  {
   "cell_type": "code",
   "execution_count": 9,
   "metadata": {},
   "outputs": [
    {
     "data": {
      "image/png": "[encoded data removed]",
      "text/plain": [
       "<PIL.Image.Image image mode=1 size=207x200 at 0x7F59CC025700>"
      ]
     },
     "execution_count": 9,
     "metadata": {},
     "output_type": "execute_result"
    }
   ],
   "source": [
    "the_one_and_only_key_img"
   ]
  },
  {
   "cell_type": "code",
   "execution_count": 10,
   "metadata": {},
   "outputs": [
    {
     "data": {
      "image/png": "[encoded data removed]",
      "text/plain": [
       "<PIL.Image.Image image mode=1 size=200x200 at 0x7F59CC025580>"
      ]
     },
     "execution_count": 10,
     "metadata": {},
     "output_type": "execute_result"
    }
   ],
   "source": [
    "img1_enc"
   ]
  },
  {
   "cell_type": "code",
   "execution_count": 11,
   "metadata": {},
   "outputs": [
    {
     "data": {
      "image/png": "[encoded data removed]",
      "text/plain": [
       "<PIL.Image.Image image mode=1 size=200x200 at 0x7F59CC025490>"
      ]
     },
     "execution_count": 11,
     "metadata": {},
     "output_type": "execute_result"
    }
   ],
   "source": [
    "img2_enc"
   ]
  },
  {
   "cell_type": "code",
   "execution_count": 12,
   "metadata": {},
   "outputs": [
    {
     "data": {
      "image/png": "[encoded data removed]",
      "text/plain": [
       "<PIL.Image.Image image mode=1 size=200x200 at 0x7F59CC091D00>"
      ]
     },
     "execution_count": 12,
     "metadata": {},
     "output_type": "execute_result"
    }
   ],
   "source": [
    "add_pic(img1_enc, img2_enc)"
   ]
  },
  {
   "cell_type": "markdown",
   "metadata": {},
   "source": [
    "## Zadanie 4 (2 pkt.)\n",
    "Zmienne masg1_enc oraz msg2_enc zawierają dwie zaszyfrowane wiadomości, w jezyku angielskim."
   ]
  },
  {
   "cell_type": "code",
   "execution_count": 13,
   "metadata": {},
   "outputs": [],
   "source": [
    "msg1_enc = '\\x1e\\x17\\x0c\\x12\\x1b\\x08\\x0cf\\x0e\\x11x\\x1a\\x1c\\x12o\\x06\\x18\\x1f\\x17\\x03\\x10\\x01fkh\\x1f\\x08'\n",
    "msg2_enc = '\\x0b\\ni\\x07\\x1c\\x02k\\x1f\\x16e\\x01\\x0b\\x07\\x03\\n\\x15\\x15\\x0c\\x1el\\x07\\x03\\x03\\x16\\x01\\x01\\x02'"
   ]
  },
  {
   "cell_type": "markdown",
   "metadata": {},
   "source": [
    "Wiadomo, że zostały zaszyfrowane tym samym kluczem, możemy to wykorzystać do odszyfrowania ich. W tym zadaniu konwencja zamiany liter na liczby i ich dodawania jest inna, niż w poprzednich. Znaki zamieniamy na liczby kodujące te znaki w Unicode, czyli za pomocą ord(), następnie dodajemy je do siebie za pomocą XOR na poziomie bitów, czyli za pomocą ^. Napisz funkcję add_str(msg1, msg2), które przyjmuje dwa teksty i zwraca tekst będący sumą tych tekstóœ zgodnie z powyższą konwencją."
   ]
  },
  {
   "cell_type": "code",
   "execution_count": 14,
   "metadata": {},
   "outputs": [],
   "source": [
    "def add_str(msg1, msg2):\n",
    "    return ''.join([chr(ord(c1) ^ ord(c2)) for (c1, c2) in zip(msg1, msg2)])"
   ]
  },
  {
   "cell_type": "code",
   "execution_count": 34,
   "metadata": {},
   "outputs": [
    {
     "name": "stdout",
     "output_type": "stream",
     "text": [
      "True\n",
      "True\n",
      "True\n",
      "True\n",
      "True\n"
     ]
    }
   ],
   "source": [
    "print(add_str('A','1')=='p')\n",
    "print(add_str('A','A')=='\\x00')\n",
    "print(add_str('A','B')=='\\x03')\n",
    "print(add_str('HSUP','NBVH')=='\\x06\\x11\\x03\\x18')\n",
    "print(add_str('131','FXH')=='wky')"
   ]
  },
  {
   "cell_type": "markdown",
   "metadata": {},
   "source": [
    "\n",
    "Zauważmy, że jeżeli dwie wiadomości są zaszyfrowane tym samym kluczem to dodanie ich do siebie sprawia, że dostaniemy sumę wiadomosći bez klucza. Poza tym zauważmy, że jeżeli znamy jakieś słowo występujące w którejś z wiadomości i je dodamy do sumy tych wiadomości w odpowiednim miejscu to w wyniku dostaniemy poprawne słowo z drugiej wiadomości. Zatem metoda łamania tych wiadomości jest następująca, zgadujemy jakie słow może być w którejś z wiadomości, dodajemy je w różnych miejscach sumy wiadomości i patrzymy czy powstaje coś co może być fragmentem poprawnego tekstu, następnie na podstawie tego fragmentu zgadujemy większą pozostałą część słowa i teraz to słowo używamy do odczytania kolejnego fragmentu z pierwszej wiadomości.\n",
    "\n",
    "Pierwsze słowo wybieramy z pośród najpopularniejszych słów w danym języku.\n",
    "\n",
    "Najpopularniejsze angielskie słowa:\n",
    "1. THE\n",
    "2. BE\n",
    "3. TO\n",
    "4. OF\n",
    "5. AND\n",
    "\n",
    "Uwaga 1: Słowa zapisane są drukowanymi literami.\n",
    "\n",
    "Uwaga 2: Słowa oddzialane są spacjami, zatem biorąc np. słowo THE należy sprawdzać ciąg znaków \"&nbsp; THE &nbsp;\", ze spacjami na początku i końcu, dzięki temu odszyfrujemy więcej znaków."
   ]
  },
  {
   "cell_type": "markdown",
   "metadata": {},
   "source": [
    "### Łamanie"
   ]
  },
  {
   "cell_type": "code",
   "execution_count": 15,
   "metadata": {},
   "outputs": [],
   "source": [
    "the_sum = add_str(msg1_enc, msg2_enc)\n",
    "length = len(the_sum)"
   ]
  },
  {
   "cell_type": "code",
   "execution_count": 16,
   "metadata": {},
   "outputs": [],
   "source": [
    "def prep_word(word, offset, fill_char=chr(ord('\\x00')), desired_length=length):\n",
    "    \"\"\"\n",
    "    Preparates word for adding to encrypted message.\n",
    "    \n",
    "    Length of prepared word is the same as the length of encrypted message.\n",
    "    Word start at given offset, everything else is filled with fill_char character,\n",
    "    which deafults to '0'\n",
    "    \"\"\"\n",
    "    return word.rjust(offset + len(word), fill_char).ljust(desired_length, fill_char)"
   ]
  },
  {
   "cell_type": "code",
   "execution_count": 17,
   "metadata": {},
   "outputs": [
    {
     "name": "stdout",
     "output_type": "stream",
     "text": [
      " WORD = ' THE '\n",
      "0 \"5I-P'\\ngy\\x18ty\\x11\\x1b\\x11e\\x13\\r\\x13\\to\\x17\\x02e}i\\x1e\\n\"\n",
      "1 '\\x15=1]B*gy\\x18ty\\x11\\x1b\\x11e\\x13\\r\\x13\\to\\x17\\x02e}i\\x1e\\n'\n",
      "2 '\\x15\\x1dEAOOGy\\x18ty\\x11\\x1b\\x11e\\x13\\r\\x13\\to\\x17\\x02e}i\\x1e\\n'\n",
      "3 '\\x15\\x1de5SB\"Y\\x18ty\\x11\\x1b\\x11e\\x13\\r\\x13\\to\\x17\\x02e}i\\x1e\\n'\n",
      "4 \"\\x15\\x1de\\x15'^/<8ty\\x11\\x1b\\x11e\\x13\\r\\x13\\to\\x17\\x02e}i\\x1e\\n\"\n",
      "5 '\\x15\\x1de\\x15\\x07*31]Ty\\x11\\x1b\\x11e\\x13\\r\\x13\\to\\x17\\x02e}i\\x1e\\n'\n",
      "6 '\\x15\\x1de\\x15\\x07\\nG-P1Y\\x11\\x1b\\x11e\\x13\\r\\x13\\to\\x17\\x02e}i\\x1e\\n'\n",
      "7 '\\x15\\x1de\\x15\\x07\\ngYL<<1\\x1b\\x11e\\x13\\r\\x13\\to\\x17\\x02e}i\\x1e\\n'\n",
      "8 '\\x15\\x1de\\x15\\x07\\ngy8 1T;\\x11e\\x13\\r\\x13\\to\\x17\\x02e}i\\x1e\\n'\n",
      "9 '\\x15\\x1de\\x15\\x07\\ngy\\x18T-Y^1e\\x13\\r\\x13\\to\\x17\\x02e}i\\x1e\\n'\n",
      "10 '\\x15\\x1de\\x15\\x07\\ngy\\x18tYESTE\\x13\\r\\x13\\to\\x17\\x02e}i\\x1e\\n'\n",
      "11 '\\x15\\x1de\\x15\\x07\\ngy\\x18ty1OY 3\\r\\x13\\to\\x17\\x02e}i\\x1e\\n'\n",
      "12 '\\x15\\x1de\\x15\\x07\\ngy\\x18ty\\x11;E-V-\\x13\\to\\x17\\x02e}i\\x1e\\n'\n",
      "13 '\\x15\\x1de\\x15\\x07\\ngy\\x18ty\\x11\\x1b11[H3\\to\\x17\\x02e}i\\x1e\\n'\n",
      "14 '\\x15\\x1de\\x15\\x07\\ngy\\x18ty\\x11\\x1b\\x11EGEV)o\\x17\\x02e}i\\x1e\\n'\n",
      "15 '\\x15\\x1de\\x15\\x07\\ngy\\x18ty\\x11\\x1b\\x11e3Y[LO\\x17\\x02e}i\\x1e\\n'\n",
      "16 '\\x15\\x1de\\x15\\x07\\ngy\\x18ty\\x11\\x1b\\x11e\\x13-GA*7\\x02e}i\\x1e\\n'\n",
      "17 '\\x15\\x1de\\x15\\x07\\ngy\\x18ty\\x11\\x1b\\x11e\\x13\\r3]\\'R\"e}i\\x1e\\n'\n",
      "18 '\\x15\\x1de\\x15\\x07\\ngy\\x18ty\\x11\\x1b\\x11e\\x13\\r\\x13);_GE}i\\x1e\\n'\n",
      "19 '\\x15\\x1de\\x15\\x07\\ngy\\x18ty\\x11\\x1b\\x11e\\x13\\r\\x13\\tOCJ ]i\\x1e\\n'\n",
      "20 '\\x15\\x1de\\x15\\x07\\ngy\\x18ty\\x11\\x1b\\x11e\\x13\\r\\x13\\to7V-8I\\x1e\\n'\n",
      "21 '\\x15\\x1de\\x15\\x07\\ngy\\x18ty\\x11\\x1b\\x11e\\x13\\r\\x13\\to\\x17\"15,>\\n'\n",
      "22 '\\x15\\x1de\\x15\\x07\\ngy\\x18ty\\x11\\x1b\\x11e\\x13\\r\\x13\\to\\x17\\x02E)![*'\n",
      "\n",
      " WORD = ' BE '\n",
      "0 '5_ 5\\x07\\ngy\\x18ty\\x11\\x1b\\x11e\\x13\\r\\x13\\to\\x17\\x02e}i\\x1e\\n'\n",
      "1 \"\\x15='P'\\ngy\\x18ty\\x11\\x1b\\x11e\\x13\\r\\x13\\to\\x17\\x02e}i\\x1e\\n\"\n",
      "2 '\\x15\\x1dEWB*gy\\x18ty\\x11\\x1b\\x11e\\x13\\r\\x13\\to\\x17\\x02e}i\\x1e\\n'\n",
      "3 '\\x15\\x1de5EOGy\\x18ty\\x11\\x1b\\x11e\\x13\\r\\x13\\to\\x17\\x02e}i\\x1e\\n'\n",
      "4 '\\x15\\x1de\\x15\\'H\"Y\\x18ty\\x11\\x1b\\x11e\\x13\\r\\x13\\to\\x17\\x02e}i\\x1e\\n'\n",
      "5 '\\x15\\x1de\\x15\\x07*%<8ty\\x11\\x1b\\x11e\\x13\\r\\x13\\to\\x17\\x02e}i\\x1e\\n'\n",
      "6 '\\x15\\x1de\\x15\\x07\\nG;]Ty\\x11\\x1b\\x11e\\x13\\r\\x13\\to\\x17\\x02e}i\\x1e\\n'\n",
      "7 '\\x15\\x1de\\x15\\x07\\ngYZ1Y\\x11\\x1b\\x11e\\x13\\r\\x13\\to\\x17\\x02e}i\\x1e\\n'\n",
      "8 '\\x15\\x1de\\x15\\x07\\ngy86<1\\x1b\\x11e\\x13\\r\\x13\\to\\x17\\x02e}i\\x1e\\n'\n",
      "9 '\\x15\\x1de\\x15\\x07\\ngy\\x18T;T;\\x11e\\x13\\r\\x13\\to\\x17\\x02e}i\\x1e\\n'\n",
      "10 '\\x15\\x1de\\x15\\x07\\ngy\\x18tYS^1e\\x13\\r\\x13\\to\\x17\\x02e}i\\x1e\\n'\n",
      "11 '\\x15\\x1de\\x15\\x07\\ngy\\x18ty1YTE\\x13\\r\\x13\\to\\x17\\x02e}i\\x1e\\n'\n",
      "12 '\\x15\\x1de\\x15\\x07\\ngy\\x18ty\\x11;S 3\\r\\x13\\to\\x17\\x02e}i\\x1e\\n'\n",
      "13 \"\\x15\\x1de\\x15\\x07\\ngy\\x18ty\\x11\\x1b1'V-\\x13\\to\\x17\\x02e}i\\x1e\\n\"\n",
      "14 '\\x15\\x1de\\x15\\x07\\ngy\\x18ty\\x11\\x1b\\x11EQH3\\to\\x17\\x02e}i\\x1e\\n'\n",
      "15 '\\x15\\x1de\\x15\\x07\\ngy\\x18ty\\x11\\x1b\\x11e3OV)o\\x17\\x02e}i\\x1e\\n'\n",
      "16 '\\x15\\x1de\\x15\\x07\\ngy\\x18ty\\x11\\x1b\\x11e\\x13-QLO\\x17\\x02e}i\\x1e\\n'\n",
      "17 '\\x15\\x1de\\x15\\x07\\ngy\\x18ty\\x11\\x1b\\x11e\\x13\\r3K*7\\x02e}i\\x1e\\n'\n",
      "18 '\\x15\\x1de\\x15\\x07\\ngy\\x18ty\\x11\\x1b\\x11e\\x13\\r\\x13)-R\"e}i\\x1e\\n'\n",
      "19 '\\x15\\x1de\\x15\\x07\\ngy\\x18ty\\x11\\x1b\\x11e\\x13\\r\\x13\\tOUGE}i\\x1e\\n'\n",
      "20 '\\x15\\x1de\\x15\\x07\\ngy\\x18ty\\x11\\x1b\\x11e\\x13\\r\\x13\\to7@ ]i\\x1e\\n'\n",
      "21 '\\x15\\x1de\\x15\\x07\\ngy\\x18ty\\x11\\x1b\\x11e\\x13\\r\\x13\\to\\x17\"\\'8I\\x1e\\n'\n",
      "22 '\\x15\\x1de\\x15\\x07\\ngy\\x18ty\\x11\\x1b\\x11e\\x13\\r\\x13\\to\\x17\\x02E?,>\\n'\n",
      "23 '\\x15\\x1de\\x15\\x07\\ngy\\x18ty\\x11\\x1b\\x11e\\x13\\r\\x13\\to\\x17\\x02e]+[*'\n",
      "\n",
      " WORD = ' TO '\n",
      "0 '5I*5\\x07\\ngy\\x18ty\\x11\\x1b\\x11e\\x13\\r\\x13\\to\\x17\\x02e}i\\x1e\\n'\n",
      "1 \"\\x15=1Z'\\ngy\\x18ty\\x11\\x1b\\x11e\\x13\\r\\x13\\to\\x17\\x02e}i\\x1e\\n\"\n",
      "2 '\\x15\\x1dEAH*gy\\x18ty\\x11\\x1b\\x11e\\x13\\r\\x13\\to\\x17\\x02e}i\\x1e\\n'\n",
      "3 '\\x15\\x1de5SEGy\\x18ty\\x11\\x1b\\x11e\\x13\\r\\x13\\to\\x17\\x02e}i\\x1e\\n'\n",
      "4 \"\\x15\\x1de\\x15'^(Y\\x18ty\\x11\\x1b\\x11e\\x13\\r\\x13\\to\\x17\\x02e}i\\x1e\\n\"\n",
      "5 '\\x15\\x1de\\x15\\x07*368ty\\x11\\x1b\\x11e\\x13\\r\\x13\\to\\x17\\x02e}i\\x1e\\n'\n",
      "6 '\\x15\\x1de\\x15\\x07\\nG-WTy\\x11\\x1b\\x11e\\x13\\r\\x13\\to\\x17\\x02e}i\\x1e\\n'\n",
      "7 '\\x15\\x1de\\x15\\x07\\ngYL;Y\\x11\\x1b\\x11e\\x13\\r\\x13\\to\\x17\\x02e}i\\x1e\\n'\n",
      "8 '\\x15\\x1de\\x15\\x07\\ngy8 61\\x1b\\x11e\\x13\\r\\x13\\to\\x17\\x02e}i\\x1e\\n'\n",
      "9 '\\x15\\x1de\\x15\\x07\\ngy\\x18T-^;\\x11e\\x13\\r\\x13\\to\\x17\\x02e}i\\x1e\\n'\n",
      "10 '\\x15\\x1de\\x15\\x07\\ngy\\x18tYET1e\\x13\\r\\x13\\to\\x17\\x02e}i\\x1e\\n'\n",
      "11 '\\x15\\x1de\\x15\\x07\\ngy\\x18ty1O^E\\x13\\r\\x13\\to\\x17\\x02e}i\\x1e\\n'\n",
      "12 '\\x15\\x1de\\x15\\x07\\ngy\\x18ty\\x11;E*3\\r\\x13\\to\\x17\\x02e}i\\x1e\\n'\n",
      "13 '\\x15\\x1de\\x15\\x07\\ngy\\x18ty\\x11\\x1b11\\\\-\\x13\\to\\x17\\x02e}i\\x1e\\n'\n",
      "14 '\\x15\\x1de\\x15\\x07\\ngy\\x18ty\\x11\\x1b\\x11EGB3\\to\\x17\\x02e}i\\x1e\\n'\n",
      "15 '\\x15\\x1de\\x15\\x07\\ngy\\x18ty\\x11\\x1b\\x11e3Y\\\\)o\\x17\\x02e}i\\x1e\\n'\n",
      "16 '\\x15\\x1de\\x15\\x07\\ngy\\x18ty\\x11\\x1b\\x11e\\x13-GFO\\x17\\x02e}i\\x1e\\n'\n",
      "17 '\\x15\\x1de\\x15\\x07\\ngy\\x18ty\\x11\\x1b\\x11e\\x13\\r3] 7\\x02e}i\\x1e\\n'\n",
      "18 '\\x15\\x1de\\x15\\x07\\ngy\\x18ty\\x11\\x1b\\x11e\\x13\\r\\x13);X\"e}i\\x1e\\n'\n",
      "19 '\\x15\\x1de\\x15\\x07\\ngy\\x18ty\\x11\\x1b\\x11e\\x13\\r\\x13\\tOCME}i\\x1e\\n'\n",
      "20 '\\x15\\x1de\\x15\\x07\\ngy\\x18ty\\x11\\x1b\\x11e\\x13\\r\\x13\\to7V*]i\\x1e\\n'\n",
      "21 '\\x15\\x1de\\x15\\x07\\ngy\\x18ty\\x11\\x1b\\x11e\\x13\\r\\x13\\to\\x17\"12I\\x1e\\n'\n",
      "22 '\\x15\\x1de\\x15\\x07\\ngy\\x18ty\\x11\\x1b\\x11e\\x13\\r\\x13\\to\\x17\\x02E)&>\\n'\n",
      "23 '\\x15\\x1de\\x15\\x07\\ngy\\x18ty\\x11\\x1b\\x11e\\x13\\r\\x13\\to\\x17\\x02e]=Q*'\n",
      "\n",
      " WORD = ' OF '\n",
      "0 '5R#5\\x07\\ngy\\x18ty\\x11\\x1b\\x11e\\x13\\r\\x13\\to\\x17\\x02e}i\\x1e\\n'\n",
      "1 \"\\x15=*S'\\ngy\\x18ty\\x11\\x1b\\x11e\\x13\\r\\x13\\to\\x17\\x02e}i\\x1e\\n\"\n",
      "2 '\\x15\\x1dEZA*gy\\x18ty\\x11\\x1b\\x11e\\x13\\r\\x13\\to\\x17\\x02e}i\\x1e\\n'\n",
      "3 '\\x15\\x1de5HLGy\\x18ty\\x11\\x1b\\x11e\\x13\\r\\x13\\to\\x17\\x02e}i\\x1e\\n'\n",
      "4 \"\\x15\\x1de\\x15'E!Y\\x18ty\\x11\\x1b\\x11e\\x13\\r\\x13\\to\\x17\\x02e}i\\x1e\\n\"\n",
      "5 '\\x15\\x1de\\x15\\x07*(?8ty\\x11\\x1b\\x11e\\x13\\r\\x13\\to\\x17\\x02e}i\\x1e\\n'\n",
      "6 '\\x15\\x1de\\x15\\x07\\nG6^Ty\\x11\\x1b\\x11e\\x13\\r\\x13\\to\\x17\\x02e}i\\x1e\\n'\n",
      "7 '\\x15\\x1de\\x15\\x07\\ngYW2Y\\x11\\x1b\\x11e\\x13\\r\\x13\\to\\x17\\x02e}i\\x1e\\n'\n",
      "8 '\\x15\\x1de\\x15\\x07\\ngy8;?1\\x1b\\x11e\\x13\\r\\x13\\to\\x17\\x02e}i\\x1e\\n'\n",
      "9 '\\x15\\x1de\\x15\\x07\\ngy\\x18T6W;\\x11e\\x13\\r\\x13\\to\\x17\\x02e}i\\x1e\\n'\n",
      "10 '\\x15\\x1de\\x15\\x07\\ngy\\x18tY^]1e\\x13\\r\\x13\\to\\x17\\x02e}i\\x1e\\n'\n",
      "11 '\\x15\\x1de\\x15\\x07\\ngy\\x18ty1TWE\\x13\\r\\x13\\to\\x17\\x02e}i\\x1e\\n'\n",
      "12 '\\x15\\x1de\\x15\\x07\\ngy\\x18ty\\x11;^#3\\r\\x13\\to\\x17\\x02e}i\\x1e\\n'\n",
      "13 '\\x15\\x1de\\x15\\x07\\ngy\\x18ty\\x11\\x1b1*U-\\x13\\to\\x17\\x02e}i\\x1e\\n'\n",
      "14 '\\x15\\x1de\\x15\\x07\\ngy\\x18ty\\x11\\x1b\\x11E\\\\K3\\to\\x17\\x02e}i\\x1e\\n'\n",
      "15 '\\x15\\x1de\\x15\\x07\\ngy\\x18ty\\x11\\x1b\\x11e3BU)o\\x17\\x02e}i\\x1e\\n'\n",
      "16 '\\x15\\x1de\\x15\\x07\\ngy\\x18ty\\x11\\x1b\\x11e\\x13-\\\\OO\\x17\\x02e}i\\x1e\\n'\n",
      "17 '\\x15\\x1de\\x15\\x07\\ngy\\x18ty\\x11\\x1b\\x11e\\x13\\r3F)7\\x02e}i\\x1e\\n'\n",
      "18 '\\x15\\x1de\\x15\\x07\\ngy\\x18ty\\x11\\x1b\\x11e\\x13\\r\\x13) Q\"e}i\\x1e\\n'\n",
      "19 '\\x15\\x1de\\x15\\x07\\ngy\\x18ty\\x11\\x1b\\x11e\\x13\\r\\x13\\tOXDE}i\\x1e\\n'\n",
      "20 '\\x15\\x1de\\x15\\x07\\ngy\\x18ty\\x11\\x1b\\x11e\\x13\\r\\x13\\to7M#]i\\x1e\\n'\n",
      "21 '\\x15\\x1de\\x15\\x07\\ngy\\x18ty\\x11\\x1b\\x11e\\x13\\r\\x13\\to\\x17\"*;I\\x1e\\n'\n",
      "22 '\\x15\\x1de\\x15\\x07\\ngy\\x18ty\\x11\\x1b\\x11e\\x13\\r\\x13\\to\\x17\\x02E2/>\\n'\n",
      "23 '\\x15\\x1de\\x15\\x07\\ngy\\x18ty\\x11\\x1b\\x11e\\x13\\r\\x13\\to\\x17\\x02e]&X*'\n",
      "\n",
      " WORD = ' AND '\n",
      "0 \"5\\\\+Q'\\ngy\\x18ty\\x11\\x1b\\x11e\\x13\\r\\x13\\to\\x17\\x02e}i\\x1e\\n\"\n",
      "1 '\\x15=$[C*gy\\x18ty\\x11\\x1b\\x11e\\x13\\r\\x13\\to\\x17\\x02e}i\\x1e\\n'\n",
      "2 '\\x15\\x1dETINGy\\x18ty\\x11\\x1b\\x11e\\x13\\r\\x13\\to\\x17\\x02e}i\\x1e\\n'\n",
      "3 '\\x15\\x1de5FD#Y\\x18ty\\x11\\x1b\\x11e\\x13\\r\\x13\\to\\x17\\x02e}i\\x1e\\n'\n",
      "4 \"\\x15\\x1de\\x15'K)=8ty\\x11\\x1b\\x11e\\x13\\r\\x13\\to\\x17\\x02e}i\\x1e\\n\"\n",
      "5 '\\x15\\x1de\\x15\\x07*&7\\\\Ty\\x11\\x1b\\x11e\\x13\\r\\x13\\to\\x17\\x02e}i\\x1e\\n'\n",
      "6 '\\x15\\x1de\\x15\\x07\\nG8V0Y\\x11\\x1b\\x11e\\x13\\r\\x13\\to\\x17\\x02e}i\\x1e\\n'\n",
      "7 '\\x15\\x1de\\x15\\x07\\ngYY:=1\\x1b\\x11e\\x13\\r\\x13\\to\\x17\\x02e}i\\x1e\\n'\n",
      "8 '\\x15\\x1de\\x15\\x07\\ngy857U;\\x11e\\x13\\r\\x13\\to\\x17\\x02e}i\\x1e\\n'\n",
      "9 '\\x15\\x1de\\x15\\x07\\ngy\\x18T8__1e\\x13\\r\\x13\\to\\x17\\x02e}i\\x1e\\n'\n",
      "10 '\\x15\\x1de\\x15\\x07\\ngy\\x18tYPUUE\\x13\\r\\x13\\to\\x17\\x02e}i\\x1e\\n'\n",
      "11 '\\x15\\x1de\\x15\\x07\\ngy\\x18ty1Z_!3\\r\\x13\\to\\x17\\x02e}i\\x1e\\n'\n",
      "12 '\\x15\\x1de\\x15\\x07\\ngy\\x18ty\\x11;P+W-\\x13\\to\\x17\\x02e}i\\x1e\\n'\n",
      "13 '\\x15\\x1de\\x15\\x07\\ngy\\x18ty\\x11\\x1b1$]I3\\to\\x17\\x02e}i\\x1e\\n'\n",
      "14 '\\x15\\x1de\\x15\\x07\\ngy\\x18ty\\x11\\x1b\\x11ERCW)o\\x17\\x02e}i\\x1e\\n'\n",
      "15 '\\x15\\x1de\\x15\\x07\\ngy\\x18ty\\x11\\x1b\\x11e3L]MO\\x17\\x02e}i\\x1e\\n'\n",
      "16 '\\x15\\x1de\\x15\\x07\\ngy\\x18ty\\x11\\x1b\\x11e\\x13-RG+7\\x02e}i\\x1e\\n'\n",
      "17 '\\x15\\x1de\\x15\\x07\\ngy\\x18ty\\x11\\x1b\\x11e\\x13\\r3H!S\"e}i\\x1e\\n'\n",
      "18 '\\x15\\x1de\\x15\\x07\\ngy\\x18ty\\x11\\x1b\\x11e\\x13\\r\\x13).YFE}i\\x1e\\n'\n",
      "19 '\\x15\\x1de\\x15\\x07\\ngy\\x18ty\\x11\\x1b\\x11e\\x13\\r\\x13\\tOVL!]i\\x1e\\n'\n",
      "20 '\\x15\\x1de\\x15\\x07\\ngy\\x18ty\\x11\\x1b\\x11e\\x13\\r\\x13\\to7C+9I\\x1e\\n'\n",
      "21 '\\x15\\x1de\\x15\\x07\\ngy\\x18ty\\x11\\x1b\\x11e\\x13\\r\\x13\\to\\x17\"$3->\\n'\n",
      "22 \"\\x15\\x1de\\x15\\x07\\ngy\\x18ty\\x11\\x1b\\x11e\\x13\\r\\x13\\to\\x17\\x02E<'Z*\"\n",
      "\n"
     ]
    }
   ],
   "source": [
    "words = [\n",
    "    ' THE ',\n",
    "    ' BE ',\n",
    "    ' TO ',\n",
    "    ' OF ',\n",
    "    ' AND '\n",
    "]\n",
    "\n",
    "for word in words:\n",
    "    print(f\" WORD = '{word}'\")\n",
    "    end = len(msg1_enc) - len(word) + 1\n",
    "    for offset in range(end):\n",
    "        print(offset, repr(add_str(the_sum, prep_word(word, offset))))\n",
    "    print()"
   ]
  },
  {
   "cell_type": "code",
   "execution_count": 18,
   "metadata": {},
   "outputs": [
    {
     "data": {
      "text/plain": [
       "'\\x15\\x1dETINGy\\x18ty\\x11\\x1b\\x11e\\x13\\r\\x13\\to\\x17\\x02e}i\\x1e\\n'"
      ]
     },
     "execution_count": 18,
     "metadata": {},
     "output_type": "execute_result"
    }
   ],
   "source": [
    "add_str(the_sum, prep_word(' AND ', 2))"
   ]
  },
  {
   "cell_type": "markdown",
   "metadata": {},
   "source": [
    "\"MEETING\"?"
   ]
  },
  {
   "cell_type": "code",
   "execution_count": 19,
   "metadata": {},
   "outputs": [
    {
     "data": {
      "text/plain": [
       "'XX AND Y\\x18ty\\x11\\x1b\\x11e\\x13\\r\\x13\\to\\x17\\x02e}i\\x1e\\n'"
      ]
     },
     "execution_count": 19,
     "metadata": {},
     "output_type": "execute_result"
    }
   ],
   "source": [
    "add_str(the_sum, prep_word('MEETING ', 0))"
   ]
  },
  {
   "cell_type": "markdown",
   "metadata": {},
   "source": [
    "\"XX AND YY \"?"
   ]
  },
  {
   "cell_type": "code",
   "execution_count": 20,
   "metadata": {},
   "outputs": [
    {
     "data": {
      "text/plain": [
       "'MEETING ATy\\x11\\x1b\\x11e\\x13\\r\\x13\\to\\x17\\x02e}i\\x1e\\n'"
      ]
     },
     "execution_count": 20,
     "metadata": {},
     "output_type": "execute_result"
    }
   ],
   "source": [
    "add_str(the_sum, prep_word('XX AND YY ', 0))"
   ]
  },
  {
   "cell_type": "markdown",
   "metadata": {},
   "source": [
    "\"MEETING AT \"!"
   ]
  },
  {
   "cell_type": "code",
   "execution_count": 21,
   "metadata": {},
   "outputs": [
    {
     "data": {
      "text/plain": [
       "'XX AND YY Y\\x11\\x1b\\x11e\\x13\\r\\x13\\to\\x17\\x02e}i\\x1e\\n'"
      ]
     },
     "execution_count": 21,
     "metadata": {},
     "output_type": "execute_result"
    }
   ],
   "source": [
    "add_str(the_sum, prep_word('MEETING AT ', 0))"
   ]
  },
  {
   "cell_type": "markdown",
   "metadata": {},
   "source": [
    "\"XX AND YY Y\", Y...?? YESTERDAY, z ' THE ', offset=10"
   ]
  },
  {
   "cell_type": "code",
   "execution_count": 22,
   "metadata": {},
   "outputs": [
    {
     "data": {
      "text/plain": [
       "'\\x15\\x1de\\x15\\x07\\ngy\\x18tYESTE\\x13\\r\\x13\\to\\x17\\x02e}i\\x1e\\n'"
      ]
     },
     "execution_count": 22,
     "metadata": {},
     "output_type": "execute_result"
    }
   ],
   "source": [
    "add_str(the_sum, prep_word(' THE ', 10))"
   ]
  },
  {
   "cell_type": "markdown",
   "metadata": {},
   "source": [
    "\" YESTERDAY \""
   ]
  },
  {
   "cell_type": "code",
   "execution_count": 23,
   "metadata": {},
   "outputs": [
    {
     "data": {
      "text/plain": [
       "'\\x15\\x1de\\x15\\x07\\ngy\\x18T THE AIRPO\\x17\\x02e}i\\x1e\\n'"
      ]
     },
     "execution_count": 23,
     "metadata": {},
     "output_type": "execute_result"
    }
   ],
   "source": [
    "add_str(the_sum, prep_word(' YESTERDAY ', 9))"
   ]
  },
  {
   "cell_type": "markdown",
   "metadata": {},
   "source": [
    "\"AT THE AIRPORT\""
   ]
  },
  {
   "cell_type": "code",
   "execution_count": 24,
   "metadata": {},
   "outputs": [
    {
     "data": {
      "text/plain": [
       "'XX AND YY YESTERDAY EVE}i\\x1e\\n'"
      ]
     },
     "execution_count": 24,
     "metadata": {},
     "output_type": "execute_result"
    }
   ],
   "source": [
    "add_str(the_sum, prep_word('MEETING AT THE AIRPORT ', 0))"
   ]
  },
  {
   "cell_type": "code",
   "execution_count": 25,
   "metadata": {},
   "outputs": [
    {
     "data": {
      "text/plain": [
       "'MEETING AT THE AIRPORT 3 PM'"
      ]
     },
     "execution_count": 25,
     "metadata": {},
     "output_type": "execute_result"
    }
   ],
   "source": [
    "add_str(the_sum, prep_word('XX AND YY YESTERDAY EVENING', 0))"
   ]
  },
  {
   "cell_type": "code",
   "execution_count": 26,
   "metadata": {},
   "outputs": [
    {
     "data": {
      "text/plain": [
       "'XX AND YY YESTERDAY EVENING'"
      ]
     },
     "execution_count": 26,
     "metadata": {},
     "output_type": "execute_result"
    }
   ],
   "source": [
    "add_str(the_sum, prep_word('MEETING AT THE AIRPORT 3 PM', 0))"
   ]
  },
  {
   "cell_type": "markdown",
   "metadata": {},
   "source": [
    "## Zadanie 5 (2 pkt.)"
   ]
  },
  {
   "cell_type": "markdown",
   "metadata": {},
   "source": [
    "W poprzednim zadaniu korzystaliśmu z faktu, że obie wiadomości były zaszyfrowane przy użyciu tego samego klucza. Jednka w praktyce nie wiemy, które i czy w ogóle, wiadomosci były zaszyfrowane przy użyciu tego samego klucza. Możemy to wykryć dokonując analizy statystycznej. Załóżmy, że dodajemy do siebie dwie wiadomości zaszyfrowane tymi samymi kluczami. Wtedy miejsca w których dostaniemy 0 (w konwencji użytej w tym zadaniu znak odpowiadający 0 w Unicode, czyli chr(0)) są miejscami w których w obu wiadomościach była ta sama litera. Jeżeli natomiast dodajemy wiadomości o różnych kluczach będziemy dostawać 0 w losowych miejscach. Zatem w pierwszym przypadku otrzymamy więcej 0.\n",
    "\n",
    "Zatem należy wczytać wszystki wiadomości msg1.txt, msg2.txt itd. a następnie dodać je do siebie parami, każda z każdą i policzyć odsetek 0 (tzn. znaków chr(0)) w otrzymanych sumach. Para wiadomości o wyższym niż inne odsetku będzie tą zaszyfrowaną przy u życiu tego samego klucza. Aby łatwiej zauważyć taką parę warto zilustrować sobie wyniki (odsetki 0) za pomocą plt.imshow(cmap,norm=LogNorm()) i użyć skali logarytmicznej."
   ]
  },
  {
   "cell_type": "code",
   "execution_count": 27,
   "metadata": {},
   "outputs": [],
   "source": [
    "from itertools import product\n",
    "\n",
    "data = np.empty((10, 10))"
   ]
  },
  {
   "cell_type": "code",
   "execution_count": 28,
   "metadata": {},
   "outputs": [],
   "source": [
    "msgs = []\n",
    "\n",
    "for i in range(10):\n",
    "    plik=open(f\"msg{i}.txt\")\n",
    "    msg=plik.read()\n",
    "    plik.close()\n",
    "    msgs.append(msg)"
   ]
  },
  {
   "cell_type": "code",
   "execution_count": 29,
   "metadata": {},
   "outputs": [],
   "source": [
    "from collections import Counter\n",
    "\n",
    "for (i, j) in product(range(10), range(10)):\n",
    "    if i == j:\n",
    "        data[i, j] = 0\n",
    "        continue\n",
    "        \n",
    "    the_sum = add_str(msgs[i], msgs[j])\n",
    "    c = Counter(the_sum)\n",
    "    data[i, j] = c['\\x00']\n"
   ]
  },
  {
   "cell_type": "code",
   "execution_count": 30,
   "metadata": {},
   "outputs": [
    {
     "data": {
      "text/plain": [
       "<matplotlib.image.AxesImage at 0x7f59b99cc310>"
      ]
     },
     "execution_count": 30,
     "metadata": {},
     "output_type": "execute_result"
    },
    {
     "data": {
      "image/png": "[encoded data removed]",
      "text/plain": [
       "<Figure size 432x288 with 1 Axes>"
      ]
     },
     "metadata": {
      "needs_background": "light"
     },
     "output_type": "display_data"
    }
   ],
   "source": [
    "plt.imshow(data, norm=LogNorm())"
   ]
  },
  {
   "cell_type": "code",
   "execution_count": 31,
   "metadata": {},
   "outputs": [
    {
     "data": {
      "text/plain": [
       "True"
      ]
     },
     "execution_count": 31,
     "metadata": {},
     "output_type": "execute_result"
    }
   ],
   "source": [
    "data.max() == data[3, 8]"
   ]
  },
  {
   "cell_type": "code",
   "execution_count": 32,
   "metadata": {},
   "outputs": [
    {
     "name": "stdout",
     "output_type": "stream",
     "text": [
      " WORD = ' and '\n",
      "0 '5j\"-Ĉ'\n",
      "1 \"+-'Ō.\"\n",
      "2 'l(ņjt'\n",
      "3 'iŉ`0o'\n",
      "4 'Ĉo:+]'\n",
      "5 '.5!\\x19E'\n",
      "6 't.\\x13\\x01ĵ'\n",
      "7 'o\\x1c\\x0bű8'\n",
      "8 ']\\x04Ż|Đ'\n",
      "9 'EŴvŔv'\n",
      "10 'ĵyŞ2u'\n",
      "11 '8ő811'\n",
      "12 'Đ7;u3'\n",
      "13 'v4\\x7fw\"'\n",
      "14 'up}f0'\n",
      "15 '1rlt;'\n",
      "16 '3c~\\x7f3'\n",
      "17 '\"quwą'\n",
      "18 '0z}Ł7'\n",
      "19 ';rŋse'\n",
      "20 '3ńy!s'\n",
      "21 \"ąv+7'\"\n",
      "22 '7$=cŐ'\n",
      "23 'e2iĔe'\n",
      "24 'sfĞ!,'\n",
      "25 \"'đ+h \"\n",
      "26 'Ő$bdc'\n",
      "27 \"emn'0\"\n",
      "28 ',a-t+'\n",
      "29 ' \"~o!'\n",
      "30 'cqeen'\n",
      "31 '0jo*6'\n",
      "32 '+` rą'\n",
      "33 '!/xŁ '\n",
      "34 'nwŋdw'\n",
      "35 '6ńn3;'\n",
      "36 'ąa9\\x7f '\n",
      "37 ' 6ud#'\n",
      "38 'wzng.'\n",
      "39 \";amj'\"\n",
      "40 ' b`c-'\n",
      "41 '#oiiŒ'\n",
      "42 '.fcĖŕ'\n",
      "43 \"'lĜđm\"\n",
      "44 '-ēě)K'\n",
      "45 'ŒĔ#\\x0f\\n'\n",
      "46 'ŕ,\\x05N\\x14'\n",
      "47 'm\\nDP&'\n",
      "48 'KKZb7'\n",
      "49 '\\nUhs>'\n",
      "50 '\\x14gyzc'\n",
      "51 \"&vp'?\"\n",
      "52 '7\\x7f-{5'\n",
      "53 '>\"qq3'\n",
      "54 'c~{wĕ'\n",
      "55 '?t}őo'\n",
      "56 '5rś+ł'\n",
      "57 '3Ŕ!ĆA'\n",
      "58 'ĕ.Č\\x05!'\n",
      "59 'oă\\x0fe*'\n",
      "60 'ł\\x00ont'\n",
      "61 'A`d0.'\n",
      "62 '!k:jĉ'\n",
      "63 '*5`ōŘ'\n",
      "64 'toŇĜh'\n",
      "65 '.ňĖ,c'\n",
      "66 \"ĉę&'4\"\n",
      "67 'Ř)-pd'\n",
      "68 'h\"z 5'\n",
      "69 'cu*q='\n",
      "70 '4%{y>'\n",
      "71 'dtsz7'\n",
      "72 '5|psċ'\n",
      "73 '=\\x7fyŏó'\n",
      "74 '>vŅ·0'\n",
      "75 '7Ŋ½tĊ'\n",
      "76 'ċ²~Ŏł'\n",
      "77 'óqńĆ!'\n",
      "78 '0ŋČe1'\n",
      "79 'Ċăoua'\n",
      "80 'ł`\\x7f%n'\n",
      "81 '!p/*>'\n",
      "82 '1  ze'\n",
      "83 'a/p!='\n",
      "84 'n\\x7f+yŖ'\n",
      "85 '>$sĒb'\n",
      "86 'e|Ę&3'\n",
      "87 '=ė,wm'\n",
      "88 'Ŗ#})s'\n",
      "89 'br#7/'\n",
      "90 '3,=kĹ'\n",
      "91 'm2aŽ '\n",
      "92 'snŷd8'\n",
      "93 '/Ÿn|\"'\n",
      "94 'Ĺavf*'\n",
      "95 ' yln='\n"
     ]
    }
   ],
   "source": [
    "the_sum = add_str(msgs[3], msgs[8])\n",
    "\n",
    "words = [\n",
    "    ' and ',\n",
    "]\n",
    "\n",
    "msg = the_sum[:100]\n",
    "\n",
    "for word in words:\n",
    "    print(f\" WORD = '{word}'\")\n",
    "    end = len(msg) - len(word) + 1\n",
    "    for offset in range(end):\n",
    "        print(offset, repr(add_str(msg, prep_word(word, offset, desired_length=len(msg)))[offset:offset+len(word)]))"
   ]
  },
  {
   "cell_type": "code",
   "execution_count": null,
   "metadata": {},
   "outputs": [],
   "source": []
  }
 ],
 "metadata": {
  "interpreter": {
   "hash": "fe576ce98fb499882f842c59cda27c51aa23a4bc63f86e9b9e6ec5c10118d911"
  },
  "kernelspec": {
   "display_name": "Python 3 (ipykernel)",
   "language": "python",
   "name": "python3"
  },
  "language_info": {
   "codemirror_mode": {
    "name": "ipython",
    "version": 3
   },
   "file_extension": ".py",
   "mimetype": "text/x-python",
   "name": "python",
   "nbconvert_exporter": "python",
   "pygments_lexer": "ipython3",
   "version": "3.9.5"
  }
 },
 "nbformat": 4,
 "nbformat_minor": 4
}
